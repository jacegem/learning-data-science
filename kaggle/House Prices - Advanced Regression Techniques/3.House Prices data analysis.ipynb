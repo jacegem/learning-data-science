{
 "cells": [
  {
   "cell_type": "markdown",
   "metadata": {},
   "source": [
    "# House Prices data analysis\n",
    "\n",
    "Analyzing data is not easy. When evaluating the data, they can capture importance porints and learn a lot of information. When learning software languages, the first sentense is very important and beautiful `Hello World\"\n",
    "\n",
    "## 1. Introduction\n",
    "\n",
    "Let's write brifly what do do while evaluating the data.\n",
    "\n",
    "Let's get to know data; columns, variable, index, info b."
   ]
  }
 ],
 "metadata": {
  "kernelspec": {
   "display_name": "Python 3",
   "language": "python",
   "name": "python3"
  },
  "language_info": {
   "codemirror_mode": {
    "name": "ipython",
    "version": 3
   },
   "file_extension": ".py",
   "mimetype": "text/x-python",
   "name": "python",
   "nbconvert_exporter": "python",
   "pygments_lexer": "ipython3",
   "version": "3.6.6"
  }
 },
 "nbformat": 4,
 "nbformat_minor": 2
}
