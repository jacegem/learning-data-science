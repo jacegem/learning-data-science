{
 "cells": [
  {
   "cell_type": "markdown",
   "metadata": {},
   "source": [
    "# House Prices: Advanced Regression Techniques\n",
    "\n",
    "https://www.kaggle.com/c/house-prices-advanced-regression-techniques#description\n",
    "\n",
    "## Description\n",
    "\n",
    "### Start here if...\n",
    "\n",
    "You have some experience with R or Python and machine learning basics. This is a perfect competition for data science students who have completed an online course in machine learning and are looking to expand their skill set before trying a featured competition. \n",
    "\n",
    "### Competition Description\n",
    "\n",
    "![](https://kaggle2.blob.core.windows.net/competitions/kaggle/5407/media/housesbanner.png)\n",
    "\n",
    "Ask a home buyer to describe their dream house, and they probably won't begin with the height of the basement ceiling or the proximity to an east-west railroad. But this playground competition's dataset proves that much more influences price negotiations than the number of bedrooms or a white-picket fence.\n",
    "\n",
    "With 79 explanatory variables describing (almost) every aspect of residential homes in Ames, Iowa, this competition challenges you to predict the final price of each home.\n",
    "\n",
    "### Practice Skills\n",
    "\n",
    "- Creative feature engineering \n",
    "- Advanced regression techniques like random forest and gradient boosting\n",
    "\n",
    "### Acknowledgments\n",
    "\n",
    "The Ames Housing dataset was compiled by Dean De Cock for use in data science education. It's an incredible alternative for data scientists looking for a modernized and expanded version of the often cited Boston Housing dataset. \n",
    "\n",
    "## Evaluation\n",
    "\n",
    "### Goal\n",
    "\n",
    "It is your job to predict the sales price for each house. For each Id in the test set, you must predict the value of the SalePrice variable. \n",
    "\n",
    "### Metric\n",
    "\n",
    "Submissions are evaluated on Root-Mean-Squared-Error (RMSE) between the logarithm of the predicted value and the logarithm of the observed sales price. (Taking logs means that errors in predicting expensive houses and cheap houses will affect the result equally.)\n",
    "\n",
    "### Submission File Format\n",
    "\n",
    "The file should contain a header and have the following format:\n",
    "\n",
    "```\n",
    "Id,SalePrice\n",
    "1461,169000.1\n",
    "1462,187724.1233\n",
    "1463,175221\n",
    "etc.\n",
    "```\n",
    "\n",
    "You can download an example submission file (sample_submission.csv) on the Data page.\n"
   ]
  }
 ],
 "metadata": {
  "kernelspec": {
   "display_name": "Python 3",
   "language": "python",
   "name": "python3"
  },
  "language_info": {
   "codemirror_mode": {
    "name": "ipython",
    "version": 3
   },
   "file_extension": ".py",
   "mimetype": "text/x-python",
   "name": "python",
   "nbconvert_exporter": "python",
   "pygments_lexer": "ipython3",
   "version": "3.6.6"
  }
 },
 "nbformat": 4,
 "nbformat_minor": 2
}
