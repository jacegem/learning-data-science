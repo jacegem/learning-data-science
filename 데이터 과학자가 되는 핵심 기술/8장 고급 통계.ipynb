{
 "cells": [
  {
   "cell_type": "markdown",
   "metadata": {},
   "source": [
    "# 8장 고급 통계\n",
    "\n",
    "- 점 추정치\n",
    "- 신뢰 구간\n",
    "- 중심 극한 정리\n",
    "- 가설 검정"
   ]
  },
  {
   "cell_type": "markdown",
   "metadata": {},
   "source": [
    "점 추정치^point estimate^는 표본 데이터를 기반으로 한 모집단 모수의 추정치다"
   ]
  },
  {
   "cell_type": "markdown",
   "metadata": {},
   "source": [
    "`푸아송 분포`^Poisson\\ distribution^ 라고 알려진 확률 분포를 사용해 질문에 대한 9000개의 답변을 무작위로 생성한다.\n",
    "\n",
    "보통 하루에 몇 분 정도 휴식을 취하는가? 이것은 '모집단'을 나타낸다."
   ]
  },
  {
   "cell_type": "code",
   "execution_count": 6,
   "metadata": {},
   "outputs": [
    {
     "data": {
      "text/plain": [
       "array([62, 69, 77, ..., 68, 73, 74])"
      ]
     },
     "execution_count": 6,
     "metadata": {},
     "output_type": "execute_result"
    }
   ],
   "source": [
    "import numpy as np\n",
    "import pandas as pd\n",
    "import scipy.stats as stats\n",
    "\n",
    "np.random.seed(1234)\n",
    "# 약 60분간 휴식을 취하는 3000명의 사람들을 나타낸다.\n",
    "long_breaks = stats.poisson.rvs(loc=10, mu=60, size=3000)\n",
    "long_breaks"
   ]
  },
  {
   "cell_type": "code",
   "execution_count": 5,
   "metadata": {},
   "outputs": [
    {
     "data": {
      "text/plain": [
       "\u001b[0;31mSignature:\u001b[0m \u001b[0mstats\u001b[0m\u001b[0;34m.\u001b[0m\u001b[0mpoisson\u001b[0m\u001b[0;34m.\u001b[0m\u001b[0mrvs\u001b[0m\u001b[0;34m(\u001b[0m\u001b[0;34m*\u001b[0m\u001b[0margs\u001b[0m\u001b[0;34m,\u001b[0m \u001b[0;34m**\u001b[0m\u001b[0mkwargs\u001b[0m\u001b[0;34m)\u001b[0m\u001b[0;34m\u001b[0m\u001b[0m\n",
       "\u001b[0;31mDocstring:\u001b[0m\n",
       "Random variates of given type.\n",
       "\n",
       "Parameters\n",
       "----------\n",
       "arg1, arg2, arg3,... : array_like\n",
       "    The shape parameter(s) for the distribution (see docstring of the\n",
       "    instance object for more information).\n",
       "loc : array_like, optional\n",
       "    Location parameter (default=0).\n",
       "size : int or tuple of ints, optional\n",
       "    Defining number of random variates (Default is 1).  Note that `size`\n",
       "    has to be given as keyword, not as positional argument.\n",
       "random_state : None or int or ``np.random.RandomState`` instance, optional\n",
       "    If int or RandomState, use it for drawing the random variates.\n",
       "    If None, rely on ``self.random_state``.\n",
       "    Default is None.\n",
       "\n",
       "Returns\n",
       "-------\n",
       "rvs : ndarray or scalar\n",
       "    Random variates of given `size`.\n",
       "\u001b[0;31mFile:\u001b[0m      /usr/local/lib/python3.6/site-packages/scipy/stats/_distn_infrastructure.py\n",
       "\u001b[0;31mType:\u001b[0m      method\n"
      ]
     },
     "metadata": {},
     "output_type": "display_data"
    }
   ],
   "source": [
    "?stats.poisson.rvs"
   ]
  },
  {
   "cell_type": "code",
   "execution_count": 10,
   "metadata": {},
   "outputs": [
    {
     "data": {
      "text/plain": [
       "<matplotlib.axes._subplots.AxesSubplot at 0x108bc47b8>"
      ]
     },
     "execution_count": 10,
     "metadata": {},
     "output_type": "execute_result"
    },
    {
     "data": {
      "image/png": "[encoded data removed]",
      "text/plain": [
       "<matplotlib.figure.Figure at 0x108b80470>"
      ]
     },
     "metadata": {},
     "output_type": "display_data"
    }
   ],
   "source": [
    "import pandas as pd\n",
    "%matplotlib inline\n",
    "import matplotlib.pyplot as plt\n",
    "plt.style.use('dark_background')\n",
    "# https://matplotlib.org/gallery/style_sheets/dark_background.html\n",
    "\n",
    "pd.Series(long_breaks).hist()"
   ]
  },
  {
   "cell_type": "code",
   "execution_count": 11,
   "metadata": {},
   "outputs": [
    {
     "data": {
      "text/plain": [
       "<matplotlib.axes._subplots.AxesSubplot at 0x108caf6a0>"
      ]
     },
     "execution_count": 11,
     "metadata": {},
     "output_type": "execute_result"
    },
    {
     "data": {
      "image/png": "[encoded data removed]",
      "text/plain": [
       "<matplotlib.figure.Figure at 0x108c8b5c0>"
      ]
     },
     "metadata": {},
     "output_type": "display_data"
    }
   ],
   "source": [
    "short_breaks = stats.poisson.rvs(loc=10, mu=15, size=6000)\n",
    "# 약 15분간 휴식을 취하는 6000명의 사람들을 나타낸다.\n",
    "pd.Series(short_breaks).hist()"
   ]
  },
  {
   "cell_type": "code",
   "execution_count": 13,
   "metadata": {},
   "outputs": [
    {
     "data": {
      "text/plain": [
       "array([62, 69, 77, ..., 30, 21, 29])"
      ]
     },
     "execution_count": 13,
     "metadata": {},
     "output_type": "execute_result"
    }
   ],
   "source": [
    "breaks = np.concatenate((long_breaks, short_breaks))\n",
    "# 두 개의 배열을 합쳐서 9000명으로 구성된 '모집단'을 얻는다.\n",
    "breaks"
   ]
  },
  {
   "cell_type": "code",
   "execution_count": 14,
   "metadata": {},
   "outputs": [
    {
     "data": {
      "text/plain": [
       "<matplotlib.axes._subplots.AxesSubplot at 0x108bf6cc0>"
      ]
     },
     "execution_count": 14,
     "metadata": {},
     "output_type": "execute_result"
    },
    {
     "data": {
      "image/png": "[encoded data removed]",
      "text/plain": [
       "<matplotlib.figure.Figure at 0x108cc4cf8>"
      ]
     },
     "metadata": {},
     "output_type": "display_data"
    }
   ],
   "source": [
    "pd.Series(breaks).hist()"
   ]
  },
  {
   "cell_type": "code",
   "execution_count": 15,
   "metadata": {},
   "outputs": [
    {
     "data": {
      "text/plain": [
       "39.999444444444443"
      ]
     },
     "execution_count": 15,
     "metadata": {},
     "output_type": "execute_result"
    }
   ],
   "source": [
    "breaks.mean()\n",
    "# 39.99 분이 모수다."
   ]
  },
  {
   "cell_type": "code",
   "execution_count": 25,
   "metadata": {},
   "outputs": [
    {
     "data": {
      "text/plain": [
       "37.960000000000001"
      ]
     },
     "execution_count": 25,
     "metadata": {},
     "output_type": "execute_result"
    }
   ],
   "source": [
    "sample_breaks = np.random.choice(a = breaks, size=100)\n",
    "# 직원 100명의 표본 추출\n",
    "sample_breaks.mean()"
   ]
  },
  {
   "cell_type": "code",
   "execution_count": 17,
   "metadata": {},
   "outputs": [
    {
     "data": {
      "text/plain": [
       "\u001b[0;31mDocstring:\u001b[0m\n",
       "choice(a, size=None, replace=True, p=None)\n",
       "\n",
       "Generates a random sample from a given 1-D array\n",
       "\n",
       "        .. versionadded:: 1.7.0\n",
       "\n",
       "Parameters\n",
       "-----------\n",
       "a : 1-D array-like or int\n",
       "    If an ndarray, a random sample is generated from its elements.\n",
       "    If an int, the random sample is generated as if a were np.arange(a)\n",
       "size : int or tuple of ints, optional\n",
       "    Output shape.  If the given shape is, e.g., ``(m, n, k)``, then\n",
       "    ``m * n * k`` samples are drawn.  Default is None, in which case a\n",
       "    single value is returned.\n",
       "replace : boolean, optional\n",
       "    Whether the sample is with or without replacement\n",
       "p : 1-D array-like, optional\n",
       "    The probabilities associated with each entry in a.\n",
       "    If not given the sample assumes a uniform distribution over all\n",
       "    entries in a.\n",
       "\n",
       "Returns\n",
       "--------\n",
       "samples : single item or ndarray\n",
       "    The generated random samples\n",
       "\n",
       "Raises\n",
       "-------\n",
       "ValueError\n",
       "    If a is an int and less than zero, if a or p are not 1-dimensional,\n",
       "    if a is an array-like of size 0, if p is not a vector of\n",
       "    probabilities, if a and p have different lengths, or if\n",
       "    replace=False and the sample size is greater than the population\n",
       "    size\n",
       "\n",
       "See Also\n",
       "---------\n",
       "randint, shuffle, permutation\n",
       "\n",
       "Examples\n",
       "---------\n",
       "Generate a uniform random sample from np.arange(5) of size 3:\n",
       "\n",
       ">>> np.random.choice(5, 3)\n",
       "array([0, 3, 4])\n",
       ">>> #This is equivalent to np.random.randint(0,5,3)\n",
       "\n",
       "Generate a non-uniform random sample from np.arange(5) of size 3:\n",
       "\n",
       ">>> np.random.choice(5, 3, p=[0.1, 0, 0.3, 0.6, 0])\n",
       "array([3, 3, 0])\n",
       "\n",
       "Generate a uniform random sample from np.arange(5) of size 3 without\n",
       "replacement:\n",
       "\n",
       ">>> np.random.choice(5, 3, replace=False)\n",
       "array([3,1,0])\n",
       ">>> #This is equivalent to np.random.permutation(np.arange(5))[:3]\n",
       "\n",
       "Generate a non-uniform random sample from np.arange(5) of size\n",
       "3 without replacement:\n",
       "\n",
       ">>> np.random.choice(5, 3, replace=False, p=[0.1, 0, 0.3, 0.6, 0])\n",
       "array([2, 3, 0])\n",
       "\n",
       "Any of the above can be repeated with an arbitrary array-like\n",
       "instead of just integers. For instance:\n",
       "\n",
       ">>> aa_milne_arr = ['pooh', 'rabbit', 'piglet', 'Christopher']\n",
       ">>> np.random.choice(aa_milne_arr, 5, p=[0.5, 0.1, 0.1, 0.3])\n",
       "array(['pooh', 'pooh', 'pooh', 'Christopher', 'piglet'],\n",
       "      dtype='|S11')\n",
       "\u001b[0;31mType:\u001b[0m      builtin_function_or_method\n"
      ]
     },
     "metadata": {},
     "output_type": "display_data"
    }
   ],
   "source": [
    "?np.random.choice"
   ]
  },
  {
   "cell_type": "code",
   "execution_count": 18,
   "metadata": {},
   "outputs": [
    {
     "data": {
      "text/plain": [
       "array([24, 27, 31, 62, 25, 20, 31, 74, 22, 20, 33, 26, 25, 75, 26, 23, 80,\n",
       "       32, 27, 23, 22, 22, 24, 20, 56, 24, 75, 27, 57, 24, 29, 35, 68, 20,\n",
       "       73, 72, 23, 24, 23, 27, 22, 25, 28, 75, 24, 68, 16, 29, 29, 29, 25,\n",
       "       76, 26, 23, 27, 27, 20, 84, 61, 29, 94, 91, 28, 31, 27, 33, 28, 74,\n",
       "       71, 30, 18, 27, 25, 26, 33, 71, 80, 59, 25, 65, 22, 20, 27, 23, 26,\n",
       "       22, 62, 27, 33, 28, 64, 19, 68, 25, 28, 60, 21, 73, 80, 72])"
      ]
     },
     "execution_count": 18,
     "metadata": {},
     "output_type": "execute_result"
    }
   ],
   "source": [
    "sample_breaks"
   ]
  },
  {
   "cell_type": "code",
   "execution_count": 27,
   "metadata": {},
   "outputs": [
    {
     "data": {
      "text/plain": [
       "2.0394444444444417"
      ]
     },
     "execution_count": 27,
     "metadata": {},
     "output_type": "execute_result"
    }
   ],
   "source": [
    "breaks.mean() - sample_breaks.mean()\n",
    "# 평균과의 차이는 2.04분, 나쁘지 않다.! (랜덤이므로 할떄마다 변경된다.)"
   ]
  },
  {
   "cell_type": "code",
   "execution_count": 30,
   "metadata": {},
   "outputs": [],
   "source": [
    "employee_races = ([\"white\"]*2000) + ([\"black\"]*1000) +\\\n",
    "                   ([\"hispanic\"]*1000) + ([\"asian\"]*3000) +\\\n",
    "                   ([\"other\"]*3000)"
   ]
  },
  {
   "cell_type": "code",
   "execution_count": 32,
   "metadata": {},
   "outputs": [
    {
     "name": "stdout",
     "output_type": "stream",
     "text": [
      "asian proportion estimate:\n",
      "0.316\n",
      "other proportion estimate:\n",
      "0.282\n",
      "white proportion estimate:\n",
      "0.219\n",
      "black proportion estimate:\n",
      "0.091\n",
      "hispanic proportion estimate:\n",
      "0.092\n"
     ]
    }
   ],
   "source": [
    "import random\n",
    "\n",
    "demo_sample = random.sample(employee_races, 1000) # 표본 값 1000\n",
    "\n",
    "for race in set(demo_sample):\n",
    "    print( race + ' proportion estimate:')\n",
    "    print( demo_sample.count(race)/1000.)"
   ]
  },
  {
   "cell_type": "code",
   "execution_count": 34,
   "metadata": {},
   "outputs": [
    {
     "data": {
      "text/plain": [
       "array([[<matplotlib.axes._subplots.AxesSubplot object at 0x1090dccf8>]], dtype=object)"
      ]
     },
     "execution_count": 34,
     "metadata": {},
     "output_type": "execute_result"
    },
    {
     "data": {
      "image/png": "[encoded data removed]",
      "text/plain": [
       "<matplotlib.figure.Figure at 0x1090b1358>"
      ]
     },
     "metadata": {},
     "output_type": "display_data"
    }
   ],
   "source": [
    "pd.DataFrame(breaks).hist()"
   ]
  },
  {
   "cell_type": "code",
   "execution_count": 33,
   "metadata": {},
   "outputs": [
    {
     "data": {
      "text/plain": [
       "array([[<matplotlib.axes._subplots.AxesSubplot object at 0x109049630>]], dtype=object)"
      ]
     },
     "execution_count": 33,
     "metadata": {},
     "output_type": "execute_result"
    },
    {
     "data": {
      "image/png": "[encoded data removed]",
      "text/plain": [
       "<matplotlib.figure.Figure at 0x108f4add8>"
      ]
     },
     "metadata": {},
     "output_type": "display_data"
    }
   ],
   "source": [
    "pd.DataFrame(breaks).hist(bins=50, range=(5, 100))"
   ]
  },
  {
   "cell_type": "markdown",
   "metadata": {},
   "source": [
    "데이터가 일반적으로 정규 분포를 따르지 않고 `이중 모드`bi-modal 인 것처럼 보인다.\n",
    "\n",
    "즉, 약 25분과 70분의 휴식 시간에 두 번의 피크가 있음을 의미한다.\n",
    "\n",
    "우선 동일한 크기로 여러 표본의 점 추정치 분포인 표본 분포를 활용해야 한다.\n",
    "\n",
    "표본 분포를 만드는 절차는 다음과 같다.\n",
    "\n",
    "1. 휴식 시간의 크기가 100인 서로 다른 표본 500개를 가져온다.\n",
    "2. 500개의 서로 다른 점 추정치에 대한 막대그래프를 만든다.(분포를 드러냄)"
   ]
  },
  {
   "cell_type": "code",
   "execution_count": 35,
   "metadata": {},
   "outputs": [
    {
     "data": {
      "text/plain": [
       "array([[<matplotlib.axes._subplots.AxesSubplot object at 0x10a4edf60>]], dtype=object)"
      ]
     },
     "execution_count": 35,
     "metadata": {},
     "output_type": "execute_result"
    },
    {
     "data": {
      "image/png": "[encoded data removed]",
      "text/plain": [
       "<matplotlib.figure.Figure at 0x10a4ed978>"
      ]
     },
     "metadata": {},
     "output_type": "display_data"
    }
   ],
   "source": [
    "point_estimates = []\n",
    "\n",
    "for x in range(500):\n",
    "    sample = np.random.choice(a=breaks, size=100)\n",
    "    point_estimates.append(sample.mean())\n",
    "    \n",
    "pd.DataFrame(point_estimates).hist()"
   ]
  },
  {
   "cell_type": "markdown",
   "metadata": {},
   "source": [
    "이 데이터는 `중심 극한 정리`central limit theorem 라고 불리는 이유로 인해 정규 분포로 수렴된다.\n",
    "\n",
    "이것은 취하는 표본 수를 늘릴 때 표본 분포(점 추정치의 분포)가 정규 분포에 접근한다는 의미다."
   ]
  },
  {
   "cell_type": "code",
   "execution_count": 36,
   "metadata": {},
   "outputs": [
    {
     "data": {
      "text/plain": [
       "0.036684444444439634"
      ]
     },
     "execution_count": 36,
     "metadata": {},
     "output_type": "execute_result"
    }
   ],
   "source": [
    "breaks.mean() - np.array(point_estimates).mean()"
   ]
  },
  {
   "cell_type": "markdown",
   "metadata": {},
   "source": [
    "## 신뢰 구간\n",
    "\n",
    "점 추정치는 모집단 모수에 대한 추정치며, 표본 분포는 훨씬 우수하지만 이러한 접근법에서는 다음과 같은 두 가지 주요 문제가 있다.\n",
    "\n",
    "- 단일 점 추정치는 오류가 발생하기 쉽다.(무무엇보다도 표본 추출 편향 때문이다.)\n",
    "- 표본 분포를 위해 특정 크기의 여러 표본을 취하는 것은 실행 불가능할 수 있으며, 때로는 실제 모집단 모수를 찾는 것보다 훨씬 더 실핼 불가능할 수 있다."
   ]
  },
  {
   "cell_type": "markdown",
   "metadata": {},
   "source": [
    "`신뢰 구간`confidence interval 은 일부 신뢰 수준에서 실제 모집단의 모수를 포함하는 점 추정치에 기반을 둔 값의 범위다.\n",
    "\n",
    "`신뢰도`Confidence 는 고급 통계에서 중요한 개념이다. 얻은 답이 정확할 빈도를 나타낸다.\n",
    "\n",
    "예를 들어 단일 점 추정치만 사용해 실제 모집단 모수를 담을 확률이 95%가 되려면 신뢰 수준을 95%로 설정해야 한다.\n",
    "\n",
    "> 더 확실히 하기 위해서 신뢰 수준이 높을수록 신뢰 구간이 넓어지고 커진다."
   ]
  },
  {
   "cell_type": "markdown",
   "metadata": {},
   "source": [
    "신뢰 구간을 위해 다음과 같은 것이 필요하다.\n",
    "\n",
    "- 점 추정치로, 이를 위해 앞의 예제에서 휴식 길이의 표본 평균을 취한다.\n",
    "- 데이터의 분산을 나타내는 모집단 표준 편차의 추정치다.\n",
    "  - 이것은 표본 표준 편차(표본 데이터의 표준 편차)를 취하고 그 수를 모집단 크기의 제곱근으로 나눠서 계산한다.\n",
    "- 자유도(표본 크기 -1)다."
   ]
  },
  {
   "cell_type": "code",
   "execution_count": 39,
   "metadata": {},
   "outputs": [
    {
     "data": {
      "text/plain": [
       "\u001b[0;31mSignature:\u001b[0m \u001b[0mstats\u001b[0m\u001b[0;34m.\u001b[0m\u001b[0mt\u001b[0m\u001b[0;34m.\u001b[0m\u001b[0minterval\u001b[0m\u001b[0;34m(\u001b[0m\u001b[0malpha\u001b[0m\u001b[0;34m,\u001b[0m \u001b[0;34m*\u001b[0m\u001b[0margs\u001b[0m\u001b[0;34m,\u001b[0m \u001b[0;34m**\u001b[0m\u001b[0mkwds\u001b[0m\u001b[0;34m)\u001b[0m\u001b[0;34m\u001b[0m\u001b[0m\n",
       "\u001b[0;31mDocstring:\u001b[0m\n",
       "Confidence interval with equal areas around the median.\n",
       "\n",
       "Parameters\n",
       "----------\n",
       "alpha : array_like of float\n",
       "    Probability that an rv will be drawn from the returned range.\n",
       "    Each value should be in the range [0, 1].\n",
       "arg1, arg2, ... : array_like\n",
       "    The shape parameter(s) for the distribution (see docstring of the\n",
       "    instance object for more information).\n",
       "loc : array_like, optional\n",
       "    location parameter, Default is 0.\n",
       "scale : array_like, optional\n",
       "    scale parameter, Default is 1.\n",
       "\n",
       "Returns\n",
       "-------\n",
       "a, b : ndarray of float\n",
       "    end-points of range that contain ``100 * alpha %`` of the rv's\n",
       "    possible values.\n",
       "\u001b[0;31mFile:\u001b[0m      /usr/local/lib/python3.6/site-packages/scipy/stats/_distn_infrastructure.py\n",
       "\u001b[0;31mType:\u001b[0m      method\n"
      ]
     },
     "metadata": {},
     "output_type": "display_data"
    }
   ],
   "source": [
    "?stats.t.interval"
   ]
  },
  {
   "cell_type": "code",
   "execution_count": 38,
   "metadata": {},
   "outputs": [
    {
     "data": {
      "text/plain": [
       "(39.307801755890651, 48.192198244109349)"
      ]
     },
     "execution_count": 38,
     "metadata": {},
     "output_type": "execute_result"
    }
   ],
   "source": [
    "import math\n",
    "\n",
    "sample_size = 100 # 채취할 표본의 크기\n",
    "sample = np.random.choice(a=breaks, size=sample_size) # 이전에 휴식 모집단 9000개에서 채취한 sample_size의 표본\n",
    "sample_mean = sample.mean() # 휴식 길이 표본의 표본 평균\n",
    "sample_stdev = sample.std() # 표본 표준 편차\n",
    "sigma = sample_stdev/math.sqrt(sample_size) # 모집단 표준 편차 추정치\n",
    "\n",
    "stats.t.interval(alpha=0.95,\n",
    "                df=sample_size-1,\n",
    "                loc=sample_mean,\n",
    "                scale=sigma)\n"
   ]
  },
  {
   "cell_type": "markdown",
   "metadata": {},
   "source": [
    "범위 39.30 에서 48.19까지는 95% 신뢰도로 평균 휴식 시간에 대한 신뢰 구간을 나타낸다."
   ]
  },
  {
   "cell_type": "code",
   "execution_count": 40,
   "metadata": {},
   "outputs": [],
   "source": [
    "# 신뢰 구간을 만드는 함수\n",
    "def make_confidence_interval():\n",
    "    sample_size = 100\n",
    "    sample = np.random.choice(a=breaks, size=sample_size)\n",
    "    sample_mean = sample.mean() # 휴식 길이 표본의 표본 평균\n",
    "    sample_stdev = sample.std() # 표본 표준 편차\n",
    "    sigma = sample_stdev/math.sqrt(sample_size) # 모집단 표준 편차 추정치\n",
    "\n",
    "    return stats.t.interval(alpha=0.95,\n",
    "                            df=sample_size-1,\n",
    "                            loc=sample_mean,\n",
    "                            scale=sigma)"
   ]
  },
  {
   "cell_type": "markdown",
   "metadata": {},
   "source": [
    "단일 신뢰 구간에 실제 모집단 모수 39.99가 포함될 확률을 검정하는 프로시저를 만든다."
   ]
  },
  {
   "cell_type": "code",
   "execution_count": 41,
   "metadata": {},
   "outputs": [
    {
     "name": "stdout",
     "output_type": "stream",
     "text": [
      "0.9472\n"
     ]
    }
   ],
   "source": [
    "times_in_interval = 0\n",
    "for i in range(10000):\n",
    "    interval = make_confidence_interval()\n",
    "    if 39.99 >= interval[0] and 39.99 <= interval[1]:\n",
    "        times_in_interval += 1\n",
    "        \n",
    "print(times_in_interval/10000)"
   ]
  },
  {
   "cell_type": "markdown",
   "metadata": {},
   "source": [
    "## 가설 검정\n",
    "\n",
    "`가설 검정`hypothesis test은 데이터 표본으로 전체 모집단에 대해 특정 조건이 참이라고 가정할 수 있는지 여부를 확인하는 데 사용되는 통계적 검정이다.\n",
    "\n",
    "기본적으로 가설 검정은 전체 모집단에 대해 갖고 있는 가설에 대한 검정이다.\n",
    "\n",
    "가설 검정은 일반적으로 모집단에 관한 두 가지 반대 가설을 조사한다.\n",
    "\n",
    "- 귀무 가설 null hypothesis\n",
    "- 대립 가설 alternative hypothesis\n",
    "\n",
    "귀무가설은 검정되는 문장이며 기본 정답이다. 이것은 출발점이자 원래의 가설이다.\n",
    "\n",
    "대립가설은 귀무가설에 반대하는 진술이다.\n",
    "\n",
    "\n"
   ]
  },
  {
   "cell_type": "markdown",
   "metadata": {},
   "source": [
    "### 가설 검정 실행\n",
    "\n",
    "대부분의 가설 검정이 따르는 다섯 가지 기본 단계\n",
    "\n",
    "1. 가설을 지정한다.\n",
    "2. 검정 표본의 표본 크기를 결정한다.\n",
    "3. 유의 수준(일반적으로 알파 또는 $\\alpha$라고 함)을 선택한다.\n",
    "4. 데이터를 수집한다.\n",
    "5. 귀무가설을 기각할 것인지 채택할 것인지 결정한다."
   ]
  },
  {
   "cell_type": "markdown",
   "metadata": {},
   "source": [
    "다음 세 가지 유형의 가설 검정을 살펴본다.\n",
    "\n",
    "- 단일 표본 t-테스트\n",
    "- 카이 제곱 Chi-square 적합성\n",
    "- 연관성/독립성에 대한 카이 제곱 검정"
   ]
  },
  {
   "cell_type": "code",
   "execution_count": null,
   "metadata": {},
   "outputs": [],
   "source": []
  }
 ],
 "metadata": {
  "kernelspec": {
   "display_name": "Python 3",
   "language": "python",
   "name": "python3"
  },
  "language_info": {
   "codemirror_mode": {
    "name": "ipython",
    "version": 3
   },
   "file_extension": ".py",
   "mimetype": "text/x-python",
   "name": "python",
   "nbconvert_exporter": "python",
   "pygments_lexer": "ipython3",
   "version": "3.6.6"
  }
 },
 "nbformat": 4,
 "nbformat_minor": 2
}
